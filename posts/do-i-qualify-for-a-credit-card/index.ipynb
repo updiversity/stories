{
 "cells": [
  {
   "cell_type": "markdown",
   "metadata": {},
   "source": [
    "<p><img src=\"http://smallbizblast.typepad.com/photos/uncategorized/2008/04/14/cartoon.gif\" /></p>"
   ]
  },
  {
   "cell_type": "markdown",
   "metadata": {},
   "source": [
    "This notebook summarizes a few days of investigation on the kaggle dataset (https://www.kaggle.com/c/GiveMeSomeCredit).\n",
    "\n",
    "It shows the use of a mix of python and R libraries, showing how to interact with both languages. \n",
    "\n",
    "For imputing missing data, R package Amelia is used. Amelia is a program from a few Harvard folks (http://gking.harvard.edu/amelia). The package is named after Amelia Earhart, a famous American woman aviator who went missing over the ocean.\n",
    "\n",
    "Amelia actually performs multiple imputation. In single imputation, we guess that missing value one time (perhaps based on the means of observed values, or a random sampling of those values). In multiple imputation, we instead draw multiple values for each missing value, effectively building multiple datasets, each of which replaces the missing data in a different way.\n",
    "\n",
    "The classifiers are tuned using the python library Optunity (http://optunity.readthedocs.org/en/latest/index.html). Optunity is a library containing various optimizers for hyperparameter tuning. Hyperparameter tuning is a recurrent problem in many machine learning tasks, both supervised and unsupervised. This package provides several distinct approaches to solve such problems including some helpful facilities such as cross-validation and a plethora of score functions.\n",
    "\n",
    "In this notebook, it is shown how to use Optunity in combination with other machine learning libraries to classify this Dataset. The cool part is that Optunity is used to choose the best approach from a set of available learning algorithms and optimize hyperparameters in one go. We will try the following learning algorithms:\n",
    "\n",
    "- Naive Bayes\n",
    "- Gradient Boosting Classifier\n",
    "- SVM\n",
    "- Random Forest\n",
    "- kNN\n",
    "- Neural Networks, using Theano and Lasagne\n",
    "- Extreme Gradient Boosting (XGBoost)\n",
    "\n",
    "Thanks for Sebastian Raschka's post on Ensemble Classifiers (http://sebastianraschka.com/Articles/2014_ensemble_classifier.html), an Ensemble Classifier which combines a subset of previously tuned classifiers is built. A specific weight is assigned to each classifier. In order to work with the weights, we collect the predicted class probabilities for each classifier, multiply it by the classifier weight, and take the average. Here as well Optunity is used to tune the Ensemble Classifier, i.e. to choose the best weights using particle swarm optimization method (https://en.wikipedia.org/wiki/Particle_swarm_optimization).\n",
    "\n",
    "Finally, this process is repeated for each Amelia imputed dataset. Thus, we end up with a set of tuned ensemble classifiers. We collect again the predicted class probabilities for each ensemble classifier and take the average. \n",
    "\n",
    "These average probabilites are considered as the final resul to be submitted to Kaggle.\n",
    "\n",
    "**Caveats**: \n",
    "\n",
    "This notebook could only be run on a limited resource (within a vagrant instance on my personal laptop):\n",
    "\n",
    "1. the subset of classifiers had to be limited to:\n",
    "    - Naive Bayes\n",
    "    - Neural Networks\n",
    "    - XGBoost\n",
    "2. the amelia datasets has been downsampled to ~10% of the original size\n",
    "3. the number of amelia datasets has been limited to 30\n",
    "\n",
    "\n",
    "## Exploration\n",
    "\n",
    "First thing to do is data exploration, in order to detect eventually outliers, missing data, corrupted data, predictor distributions, etc..."
   ]
  },
  {
   "cell_type": "code",
   "execution_count": 1,
   "metadata": {
    "collapsed": false
   },
   "outputs": [],
   "source": [
    "import pandas as pd\n",
    "import numpy as np\n",
    "%load_ext rpy2.ipython  \n",
    "\n",
    "train = pd.read_csv(\"../data/cs-training.csv\")\n",
    "\n",
    "test = pd.read_csv(\"../data/cs-test.csv\")\n",
    "\n",
    "df = pd.concat((train,test))\n",
    "df = df.drop([\"SeriousDlqin2yrs\"],axis=1)\n",
    "df = df.drop([\"Unnamed: 0\"],axis=1)"
   ]
  },
  {
   "cell_type": "code",
   "execution_count": 2,
   "metadata": {
    "collapsed": false,
    "scrolled": false
   },
   "outputs": [
    {
     "data": {
      "text/html": [
       "<div>\n",
       "<table border=\"1\" class=\"dataframe\">\n",
       "  <thead>\n",
       "    <tr style=\"text-align: right;\">\n",
       "      <th></th>\n",
       "      <th>count</th>\n",
       "      <th>mean</th>\n",
       "      <th>std</th>\n",
       "      <th>min</th>\n",
       "      <th>25%</th>\n",
       "      <th>50%</th>\n",
       "      <th>75%</th>\n",
       "      <th>max</th>\n",
       "    </tr>\n",
       "  </thead>\n",
       "  <tbody>\n",
       "    <tr>\n",
       "      <th>RevolvingUtilizationOfUnsecuredLines</th>\n",
       "      <td>251503</td>\n",
       "      <td>5.750415</td>\n",
       "      <td>229.633980</td>\n",
       "      <td>0</td>\n",
       "      <td>0.029977</td>\n",
       "      <td>0.153575</td>\n",
       "      <td>0.561293</td>\n",
       "      <td>50708</td>\n",
       "    </tr>\n",
       "    <tr>\n",
       "      <th>age</th>\n",
       "      <td>251503</td>\n",
       "      <td>52.339694</td>\n",
       "      <td>14.775120</td>\n",
       "      <td>0</td>\n",
       "      <td>41.000000</td>\n",
       "      <td>52.000000</td>\n",
       "      <td>63.000000</td>\n",
       "      <td>109</td>\n",
       "    </tr>\n",
       "    <tr>\n",
       "      <th>NumberOfTime30-59DaysPastDueNotWorse</th>\n",
       "      <td>251503</td>\n",
       "      <td>0.434245</td>\n",
       "      <td>4.335643</td>\n",
       "      <td>0</td>\n",
       "      <td>0.000000</td>\n",
       "      <td>0.000000</td>\n",
       "      <td>0.000000</td>\n",
       "      <td>98</td>\n",
       "    </tr>\n",
       "    <tr>\n",
       "      <th>DebtRatio</th>\n",
       "      <td>251503</td>\n",
       "      <td>349.562468</td>\n",
       "      <td>1884.792016</td>\n",
       "      <td>0</td>\n",
       "      <td>0.174330</td>\n",
       "      <td>0.365612</td>\n",
       "      <td>0.861754</td>\n",
       "      <td>329664</td>\n",
       "    </tr>\n",
       "    <tr>\n",
       "      <th>MonthlyIncome</th>\n",
       "      <td>201669</td>\n",
       "      <td>6744.818167</td>\n",
       "      <td>25717.610237</td>\n",
       "      <td>0</td>\n",
       "      <td>3400.000000</td>\n",
       "      <td>5400.000000</td>\n",
       "      <td>8212.000000</td>\n",
       "      <td>7727000</td>\n",
       "    </tr>\n",
       "    <tr>\n",
       "      <th>NumberOfOpenCreditLinesAndLoans</th>\n",
       "      <td>251503</td>\n",
       "      <td>8.453064</td>\n",
       "      <td>5.145194</td>\n",
       "      <td>0</td>\n",
       "      <td>5.000000</td>\n",
       "      <td>8.000000</td>\n",
       "      <td>11.000000</td>\n",
       "      <td>85</td>\n",
       "    </tr>\n",
       "    <tr>\n",
       "      <th>NumberOfTimes90DaysLate</th>\n",
       "      <td>251503</td>\n",
       "      <td>0.278370</td>\n",
       "      <td>4.312539</td>\n",
       "      <td>0</td>\n",
       "      <td>0.000000</td>\n",
       "      <td>0.000000</td>\n",
       "      <td>0.000000</td>\n",
       "      <td>98</td>\n",
       "    </tr>\n",
       "    <tr>\n",
       "      <th>NumberRealEstateLoansOrLines</th>\n",
       "      <td>251503</td>\n",
       "      <td>1.016155</td>\n",
       "      <td>1.121935</td>\n",
       "      <td>0</td>\n",
       "      <td>0.000000</td>\n",
       "      <td>1.000000</td>\n",
       "      <td>2.000000</td>\n",
       "      <td>54</td>\n",
       "    </tr>\n",
       "    <tr>\n",
       "      <th>NumberOfTime60-89DaysPastDueNotWorse</th>\n",
       "      <td>251503</td>\n",
       "      <td>0.252466</td>\n",
       "      <td>4.299204</td>\n",
       "      <td>0</td>\n",
       "      <td>0.000000</td>\n",
       "      <td>0.000000</td>\n",
       "      <td>0.000000</td>\n",
       "      <td>98</td>\n",
       "    </tr>\n",
       "    <tr>\n",
       "      <th>NumberOfDependents</th>\n",
       "      <td>244953</td>\n",
       "      <td>0.761995</td>\n",
       "      <td>1.123905</td>\n",
       "      <td>0</td>\n",
       "      <td>0.000000</td>\n",
       "      <td>0.000000</td>\n",
       "      <td>1.000000</td>\n",
       "      <td>43</td>\n",
       "    </tr>\n",
       "  </tbody>\n",
       "</table>\n",
       "</div>"
      ],
      "text/plain": [
       "                                       count         mean           std  min  \\\n",
       "RevolvingUtilizationOfUnsecuredLines  251503     5.750415    229.633980    0   \n",
       "age                                   251503    52.339694     14.775120    0   \n",
       "NumberOfTime30-59DaysPastDueNotWorse  251503     0.434245      4.335643    0   \n",
       "DebtRatio                             251503   349.562468   1884.792016    0   \n",
       "MonthlyIncome                         201669  6744.818167  25717.610237    0   \n",
       "NumberOfOpenCreditLinesAndLoans       251503     8.453064      5.145194    0   \n",
       "NumberOfTimes90DaysLate               251503     0.278370      4.312539    0   \n",
       "NumberRealEstateLoansOrLines          251503     1.016155      1.121935    0   \n",
       "NumberOfTime60-89DaysPastDueNotWorse  251503     0.252466      4.299204    0   \n",
       "NumberOfDependents                    244953     0.761995      1.123905    0   \n",
       "\n",
       "                                              25%          50%          75%  \\\n",
       "RevolvingUtilizationOfUnsecuredLines     0.029977     0.153575     0.561293   \n",
       "age                                     41.000000    52.000000    63.000000   \n",
       "NumberOfTime30-59DaysPastDueNotWorse     0.000000     0.000000     0.000000   \n",
       "DebtRatio                                0.174330     0.365612     0.861754   \n",
       "MonthlyIncome                         3400.000000  5400.000000  8212.000000   \n",
       "NumberOfOpenCreditLinesAndLoans          5.000000     8.000000    11.000000   \n",
       "NumberOfTimes90DaysLate                  0.000000     0.000000     0.000000   \n",
       "NumberRealEstateLoansOrLines             0.000000     1.000000     2.000000   \n",
       "NumberOfTime60-89DaysPastDueNotWorse     0.000000     0.000000     0.000000   \n",
       "NumberOfDependents                       0.000000     0.000000     1.000000   \n",
       "\n",
       "                                          max  \n",
       "RevolvingUtilizationOfUnsecuredLines    50708  \n",
       "age                                       109  \n",
       "NumberOfTime30-59DaysPastDueNotWorse       98  \n",
       "DebtRatio                              329664  \n",
       "MonthlyIncome                         7727000  \n",
       "NumberOfOpenCreditLinesAndLoans            85  \n",
       "NumberOfTimes90DaysLate                    98  \n",
       "NumberRealEstateLoansOrLines               54  \n",
       "NumberOfTime60-89DaysPastDueNotWorse       98  \n",
       "NumberOfDependents                         43  "
      ]
     },
     "execution_count": 2,
     "metadata": {},
     "output_type": "execute_result"
    }
   ],
   "source": [
    "df.describe().T"
   ]
  },
  {
   "cell_type": "markdown",
   "metadata": {},
   "source": [
    "### NaNs statistics"
   ]
  },
  {
   "cell_type": "code",
   "execution_count": 3,
   "metadata": {
    "collapsed": false
   },
   "outputs": [
    {
     "data": {
      "text/plain": [
       "RevolvingUtilizationOfUnsecuredLines    0.000000\n",
       "age                                     0.000000\n",
       "NumberOfTime30-59DaysPastDueNotWorse    0.000000\n",
       "DebtRatio                               0.000000\n",
       "MonthlyIncome                           0.198145\n",
       "NumberOfOpenCreditLinesAndLoans         0.000000\n",
       "NumberOfTimes90DaysLate                 0.000000\n",
       "NumberRealEstateLoansOrLines            0.000000\n",
       "NumberOfTime60-89DaysPastDueNotWorse    0.000000\n",
       "NumberOfDependents                      0.026043\n",
       "Name: count, dtype: float64"
      ]
     },
     "execution_count": 3,
     "metadata": {},
     "output_type": "execute_result"
    }
   ],
   "source": [
    "1-df.describe().T[\"count\"]/df.shape[0]"
   ]
  },
  {
   "cell_type": "markdown",
   "metadata": {},
   "source": [
    "### Predictor Distributions"
   ]
  },
  {
   "cell_type": "code",
   "execution_count": 4,
   "metadata": {
    "collapsed": false,
    "scrolled": false
   },
   "outputs": [
    {
     "data": {
      "text/plain": [
       "array([[<matplotlib.axes._subplots.AxesSubplot object at 0x7f29ec553350>,\n",
       "        <matplotlib.axes._subplots.AxesSubplot object at 0x7f29ec4dee50>,\n",
       "        <matplotlib.axes._subplots.AxesSubplot object at 0x7f29ec465810>],\n",
       "       [<matplotlib.axes._subplots.AxesSubplot object at 0x7f29ec3d1910>,\n",
       "        <matplotlib.axes._subplots.AxesSubplot object at 0x7f29ec354750>,\n",
       "        <matplotlib.axes._subplots.AxesSubplot object at 0x7f29ec2b8550>],\n",
       "       [<matplotlib.axes._subplots.AxesSubplot object at 0x7f29ec238890>,\n",
       "        <matplotlib.axes._subplots.AxesSubplot object at 0x7f29ec1bd5d0>,\n",
       "        <matplotlib.axes._subplots.AxesSubplot object at 0x7f29ec1ab190>],\n",
       "       [<matplotlib.axes._subplots.AxesSubplot object at 0x7f29ec123e90>,\n",
       "        <matplotlib.axes._subplots.AxesSubplot object at 0x7f29ec087f10>,\n",
       "        <matplotlib.axes._subplots.AxesSubplot object at 0x7f29ec009e10>]], dtype=object)"
      ]
     },
     "execution_count": 4,
     "metadata": {},
     "output_type": "execute_result"
    },
    {
     "data": {
      "image/png": "[encoded data removed]",
      "text/plain": [
       "<matplotlib.figure.Figure at 0x7f29ec541c50>"
      ]
     },
     "metadata": {},
     "output_type": "display_data"
    }
   ],
   "source": [
    "import matplotlib.pyplot as plt\n",
    "import math\n",
    "%matplotlib inline\n",
    "plt.style.use('ggplot')\n",
    "\n",
    "ncols=3\n",
    "figsize=(15,15)\n",
    "nrows=int(math.ceil(float(len(df.columns))/ncols))\n",
    "df.plot(kind=\"box\",subplots=True,layout=(nrows,ncols),figsize=figsize)"
   ]
  },
  {
   "cell_type": "code",
   "execution_count": 5,
   "metadata": {
    "collapsed": false
   },
   "outputs": [
    {
     "data": {
      "text/plain": [
       "<matplotlib.axes._subplots.AxesSubplot at 0x7f29ec541cd0>"
      ]
     },
     "execution_count": 5,
     "metadata": {},
     "output_type": "execute_result"
    },
    {
     "data": {
      "image/png": "[encoded data removed]",
      "text/plain": [
       "<matplotlib.figure.Figure at 0x7f29ec813490>"
      ]
     },
     "metadata": {},
     "output_type": "display_data"
    }
   ],
   "source": [
    "df[[\"NumberOfTimes90DaysLate\",\"NumberOfTime30-59DaysPastDueNotWorse\",\"NumberOfTime60-89DaysPastDueNotWorse\"]].plot(kind=\"hist\",logy=True,alpha=0.5,bins=100,figsize=(12,6))"
   ]
  },
  {
   "cell_type": "markdown",
   "metadata": {},
   "source": [
    "**NumberOfTimes90DaysLate** \n",
    "\n",
    "**NumberOfTime30-59DaysPastDueNotWorse**\n",
    "\n",
    "**NumberOfTime60-89DaysPastDueNotWorse**\n",
    "    - Distributions highly skewed.\n",
    "    - Strange values [96,98] are observed for the preditors. These will be replaced by NA and then imputed\n",
    "**RevolvingUtilizationOfUnsecuredLines**\n",
    "    - Distribution highly skewed.\n",
    "    - Based on the predictor definition, it looks weird that this predictor takes values above 1. These will be\n",
    "    replaced by NA and then imputed\n",
    "**NumberOfDependents**\n",
    "    - Disribution highly skewed."
   ]
  },
  {
   "cell_type": "code",
   "execution_count": 6,
   "metadata": {
    "collapsed": false
   },
   "outputs": [
    {
     "data": {
      "text/plain": [
       "<matplotlib.axes._subplots.AxesSubplot at 0x7f29eba14950>"
      ]
     },
     "execution_count": 6,
     "metadata": {},
     "output_type": "execute_result"
    },
    {
     "data": {
      "image/png": "[encoded data removed]",
      "text/plain": [
       "<matplotlib.figure.Figure at 0x7f29ebbfaf50>"
      ]
     },
     "metadata": {},
     "output_type": "display_data"
    }
   ],
   "source": [
    "df[\"age\"].plot()"
   ]
  },
  {
   "cell_type": "markdown",
   "metadata": {},
   "source": [
    "**age**\n",
    "\n",
    "    - Age cannot be 0... having already a credit line before being born, so crippy. Naively maybe, these will be\n",
    "    replaced by NA and then imputed"
   ]
  },
  {
   "cell_type": "code",
   "execution_count": 7,
   "metadata": {
    "collapsed": false
   },
   "outputs": [
    {
     "data": {
      "text/plain": [
       "<matplotlib.axes._subplots.AxesSubplot at 0x7f29d68b88d0>"
      ]
     },
     "execution_count": 7,
     "metadata": {},
     "output_type": "execute_result"
    },
    {
     "data": {
      "image/png": "[encoded data removed]",
      "text/plain": [
       "<matplotlib.figure.Figure at 0x7f29e89c0150>"
      ]
     },
     "metadata": {},
     "output_type": "display_data"
    }
   ],
   "source": [
    "import statsmodels.api as sm\n",
    "fig = plt.figure()\n",
    "ax = fig.add_subplot(211)\n",
    "sm.graphics.beanplot([df[\"MonthlyIncome\"][df[\"DebtRatio\"] > df[\"DebtRatio\"].quantile(.95)].dropna()], ax=ax, jitter=True);\n",
    "ax = fig.add_subplot(212)\n",
    "df[\"DebtRatio\"][df[\"MonthlyIncome\"] <= 1].plot(kind=\"hist\",ax=ax)"
   ]
  },
  {
   "cell_type": "code",
   "execution_count": 8,
   "metadata": {
    "collapsed": false
   },
   "outputs": [
    {
     "data": {
      "text/html": [
       "<div>\n",
       "<table border=\"1\" class=\"dataframe\">\n",
       "  <thead>\n",
       "    <tr style=\"text-align: right;\">\n",
       "      <th></th>\n",
       "      <th>MonthlyIncome</th>\n",
       "      <th>DebtRatio</th>\n",
       "    </tr>\n",
       "  </thead>\n",
       "  <tbody>\n",
       "    <tr>\n",
       "      <th>4854</th>\n",
       "      <td>NaN</td>\n",
       "      <td>168835.0</td>\n",
       "    </tr>\n",
       "    <tr>\n",
       "      <th>7513</th>\n",
       "      <td>NaN</td>\n",
       "      <td>110952.0</td>\n",
       "    </tr>\n",
       "    <tr>\n",
       "      <th>36600</th>\n",
       "      <td>NaN</td>\n",
       "      <td>326442.0</td>\n",
       "    </tr>\n",
       "    <tr>\n",
       "      <th>46102</th>\n",
       "      <td>NaN</td>\n",
       "      <td>52112.0</td>\n",
       "    </tr>\n",
       "    <tr>\n",
       "      <th>53682</th>\n",
       "      <td>1</td>\n",
       "      <td>61106.5</td>\n",
       "    </tr>\n",
       "    <tr>\n",
       "      <th>58900</th>\n",
       "      <td>NaN</td>\n",
       "      <td>220516.0</td>\n",
       "    </tr>\n",
       "    <tr>\n",
       "      <th>60152</th>\n",
       "      <td>NaN</td>\n",
       "      <td>329664.0</td>\n",
       "    </tr>\n",
       "    <tr>\n",
       "      <th>66785</th>\n",
       "      <td>NaN</td>\n",
       "      <td>61907.0</td>\n",
       "    </tr>\n",
       "    <tr>\n",
       "      <th>69845</th>\n",
       "      <td>NaN</td>\n",
       "      <td>101320.0</td>\n",
       "    </tr>\n",
       "    <tr>\n",
       "      <th>103041</th>\n",
       "      <td>NaN</td>\n",
       "      <td>106885.0</td>\n",
       "    </tr>\n",
       "    <tr>\n",
       "      <th>127047</th>\n",
       "      <td>NaN</td>\n",
       "      <td>307001.0</td>\n",
       "    </tr>\n",
       "    <tr>\n",
       "      <th>127898</th>\n",
       "      <td>0</td>\n",
       "      <td>60212.0</td>\n",
       "    </tr>\n",
       "    <tr>\n",
       "      <th>14626</th>\n",
       "      <td>0</td>\n",
       "      <td>95713.0</td>\n",
       "    </tr>\n",
       "    <tr>\n",
       "      <th>30511</th>\n",
       "      <td>0</td>\n",
       "      <td>202990.0</td>\n",
       "    </tr>\n",
       "    <tr>\n",
       "      <th>49845</th>\n",
       "      <td>NaN</td>\n",
       "      <td>268326.0</td>\n",
       "    </tr>\n",
       "    <tr>\n",
       "      <th>67717</th>\n",
       "      <td>NaN</td>\n",
       "      <td>128992.0</td>\n",
       "    </tr>\n",
       "    <tr>\n",
       "      <th>86772</th>\n",
       "      <td>0</td>\n",
       "      <td>87853.0</td>\n",
       "    </tr>\n",
       "  </tbody>\n",
       "</table>\n",
       "</div>"
      ],
      "text/plain": [
       "        MonthlyIncome  DebtRatio\n",
       "4854              NaN   168835.0\n",
       "7513              NaN   110952.0\n",
       "36600             NaN   326442.0\n",
       "46102             NaN    52112.0\n",
       "53682               1    61106.5\n",
       "58900             NaN   220516.0\n",
       "60152             NaN   329664.0\n",
       "66785             NaN    61907.0\n",
       "69845             NaN   101320.0\n",
       "103041            NaN   106885.0\n",
       "127047            NaN   307001.0\n",
       "127898              0    60212.0\n",
       "14626               0    95713.0\n",
       "30511               0   202990.0\n",
       "49845             NaN   268326.0\n",
       "67717             NaN   128992.0\n",
       "86772               0    87853.0"
      ]
     },
     "execution_count": 8,
     "metadata": {},
     "output_type": "execute_result"
    }
   ],
   "source": [
    "df[[\"MonthlyIncome\",\"DebtRatio\"]][df[\"DebtRatio\"]>50000]"
   ]
  },
  {
   "cell_type": "markdown",
   "metadata": {},
   "source": [
    "**DebtRatio**\n",
    "    - Distribution are highly right skewed. \n",
    "**MonthlyIncome**\n",
    "    - Distribution are highly right skewed. \n",
    "    - \"NaN\" as MonthlyIncome leads to DebtRatio >> 50000 and these values are much higher with respect to the rest of the DebtRatio values. The hypothesis taken here is that as the MonthlyIncome should really low with respect to the amount of Debt in these cases. NaNs will be replaced with 0."
   ]
  },
  {
   "cell_type": "markdown",
   "metadata": {},
   "source": [
    "### Class Distribution"
   ]
  },
  {
   "cell_type": "code",
   "execution_count": 9,
   "metadata": {
    "collapsed": false
   },
   "outputs": [
    {
     "data": {
      "text/plain": [
       "0.93316"
      ]
     },
     "execution_count": 9,
     "metadata": {},
     "output_type": "execute_result"
    },
    {
     "data": {
      "image/png": "[encoded data removed]",
      "text/plain": [
       "<matplotlib.figure.Figure at 0x7f29e89f2850>"
      ]
     },
     "metadata": {},
     "output_type": "display_data"
    }
   ],
   "source": [
    "train[\"SeriousDlqin2yrs\"].plot(kind=\"hist\")\n",
    "len(train[train[\"SeriousDlqin2yrs\"]==0])/float(len(train))"
   ]
  },
  {
   "cell_type": "markdown",
   "metadata": {},
   "source": [
    "**SeriousDlqin2yrs**\n",
    "    - A severe class imbalance is observed. This will have to be taken in consideration during the training\n",
    "    process. The accuracy of the predictive algorithm will have to be higher than 93.3%"
   ]
  },
  {
   "cell_type": "markdown",
   "metadata": {},
   "source": [
    "## Preprocessing\n",
    "\n",
    "### Imputation\n",
    "\n",
    "Imputation is performed \"naively\" on the complete dataset, i.e. train and test.\n",
    "\n",
    "NaNs are assigned to some predictor observations, as commented during the Exploration Process."
   ]
  },
  {
   "cell_type": "code",
   "execution_count": 10,
   "metadata": {
    "collapsed": false
   },
   "outputs": [],
   "source": [
    "inp2imp_path = '../data/outputs'\n",
    "imp_path ='../data/amelia'\n",
    "m_imp = 30\n",
    "n_folds_opt = 8\n",
    "num_evals_m_opt = 40\n",
    "num_evals_e_opt = 12\n",
    "n_iter_mod=1\n",
    "n_iter_ens=1 \n",
    "n_iter_under=1\n",
    "results_path ='../data/results' # use your path\n",
    "undersample_level = 1\n",
    "\n",
    "search = {'algorithm': {\n",
    "                        'nnets': None,\n",
    "                        'naive-bayes' : None,\n",
    "                        'extreme-gboost': {'n_estimators': [100, 101],\n",
    "                                      'colsample_bytree': [0.5, 1.0],\n",
    "                                      'max_depth': [3, 6]}\n",
    "                        }\n",
    "         }"
   ]
  },
  {
   "cell_type": "code",
   "execution_count": 11,
   "metadata": {
    "collapsed": true
   },
   "outputs": [],
   "source": [
    "inp2imp_path = '../data/outputs'\n",
    "imp_path ='../data/amelia'"
   ]
  },
  {
   "cell_type": "code",
   "execution_count": 12,
   "metadata": {
    "collapsed": false
   },
   "outputs": [],
   "source": [
    "import os\n",
    "\n",
    "df.loc[:,(\"NumberOfTimes90DaysLate\")].replace(to_replace=[96,98],value=[None,None],inplace=True)\n",
    "df.loc[:,(\"NumberOfTime30-59DaysPastDueNotWorse\")].replace(to_replace=[96,98],value=[None,None],inplace=True)\n",
    "df.loc[:,(\"NumberOfTime60-89DaysPastDueNotWorse\")].replace(to_replace=[96,98],value=[None,None],inplace=True)\n",
    "df[\"age\"].replace(to_replace=[0],value=[None],inplace=True)\n",
    "df.loc[df.loc[:,\"RevolvingUtilizationOfUnsecuredLines\"]>1,\"RevolvingUtilizationOfUnsecuredLines\"]=1\n",
    "df.loc[df[\"DebtRatio\"]>50000,(\"MonthlyIncome\")].replace(to_replace=[None],value=[0],inplace=True)\n",
    "\n",
    "df.loc[df[\"MonthlyIncome\"].isnull(),(\"DebtRatio\")]=None\n",
    "\n",
    "## dataframe is exported to csv for imputation using the R package Amelia\n",
    "## because the rpy2 converted dataframe is not accepted by Amelia\n",
    "if not os.path.exists(inp2imp_path):\n",
    "    os.makedirs(inp2imp_path)\n",
    "df.to_csv(inp2imp_path + '/for_imputation.csv',index=False)"
   ]
  },
  {
   "cell_type": "code",
   "execution_count": 13,
   "metadata": {
    "collapsed": false
   },
   "outputs": [
    {
     "data": {
      "text/plain": [
       "5272"
      ]
     },
     "execution_count": 13,
     "metadata": {},
     "output_type": "execute_result"
    }
   ],
   "source": [
    "# Necessary in order to avoid memory issues using RPY2\n",
    "import gc\n",
    "gc.collect()"
   ]
  },
  {
   "cell_type": "markdown",
   "metadata": {},
   "source": [
    "The imputation model in Amelia assumes that the complete data (that is, both observed and unobserved) are multivariate normal. If we denote the (n × k) dataset as D (with observed part ${D_{obs}}$ and unobserved part ${D_{mis}}$), then this assumption is\n",
    "\n",
    "$${D ∼ N_k({\\mu}, {\\sigma})}$$\n",
    "\n",
    "which states that D has a multivariate normal distribution with mean vector ${\\mu}$ and covariance matrix ${\\sigma}$. The multivariate normal distribution is often a crude approximation to the true distribution of the data, yet there is evidence that this model works as well as other, more complicated models even in the face of categorical or mixed data. Furthermore, transformations of many types of variables can often make this normality assumption more plausible.\n",
    "\n",
    "This is why highly skewed predictor distributions are transformed before being injerted in Amelia."
   ]
  },
  {
   "cell_type": "code",
   "execution_count": 14,
   "metadata": {
    "collapsed": false,
    "scrolled": true
   },
   "outputs": [
    {
     "name": "stderr",
     "output_type": "stream",
     "text": [
      "/home/vagrant/.virtualenvs/venvpy2/local/lib/python2.7/site-packages/rpy2/robjects/functions.py:106: UserWarning: Loading required package: Rcpp\n",
      "\n",
      "  res = super(Function, self).__call__(*new_args, **new_kwargs)\n",
      "/home/vagrant/.virtualenvs/venvpy2/local/lib/python2.7/site-packages/rpy2/robjects/functions.py:106: UserWarning: ## \n",
      "## Amelia II: Multiple Imputation\n",
      "## (Version 1.7.3, built: 2014-11-14)\n",
      "## Copyright (C) 2005-2015 James Honaker, Gary King and Matthew Blackwell\n",
      "## Refer to http://gking.harvard.edu/amelia/ for more information\n",
      "## \n",
      "\n",
      "  res = super(Function, self).__call__(*new_args, **new_kwargs)\n"
     ]
    },
    {
     "data": {
      "text/plain": [
       "-- Imputation 1 --\n",
       "\n",
       "  1  2  3\n",
       "\n",
       "-- Imputation 2 --\n",
       "\n",
       "  1  2  3\n",
       "\n",
       "-- Imputation 3 --\n",
       "\n",
       "  1  2  3\n",
       "\n",
       "-- Imputation 4 --\n",
       "\n",
       "  1  2  3\n",
       "\n",
       "-- Imputation 5 --\n",
       "\n",
       "  1  2  3\n",
       "\n",
       "-- Imputation 6 --\n",
       "\n",
       "  1  2  3\n",
       "\n",
       "-- Imputation 7 --\n",
       "\n",
       "  1  2  3\n",
       "\n",
       "-- Imputation 8 --\n",
       "\n",
       "  1  2  3\n",
       "\n",
       "-- Imputation 9 --\n",
       "\n",
       "  1  2  3\n",
       "\n",
       "-- Imputation 10 --\n",
       "\n",
       "  1  2  3\n",
       "\n",
       "-- Imputation 11 --\n",
       "\n",
       "  1  2  3\n",
       "\n",
       "-- Imputation 12 --\n",
       "\n",
       "  1  2  3\n",
       "\n",
       "-- Imputation 13 --\n",
       "\n",
       "  1  2  3\n",
       "\n",
       "-- Imputation 14 --\n",
       "\n",
       "  1  2  3\n",
       "\n",
       "-- Imputation 15 --\n",
       "\n",
       "  1  2  3\n",
       "\n",
       "-- Imputation 16 --\n",
       "\n",
       "  1  2  3\n",
       "\n",
       "-- Imputation 17 --\n",
       "\n",
       "  1  2  3\n",
       "\n",
       "-- Imputation 18 --\n",
       "\n",
       "  1  2  3\n",
       "\n",
       "-- Imputation 19 --\n",
       "\n",
       "  1  2  3\n",
       "\n",
       "-- Imputation 20 --\n",
       "\n",
       "  1  2  3\n",
       "\n",
       "-- Imputation 21 --\n",
       "\n",
       "  1  2  3\n",
       "\n",
       "-- Imputation 22 --\n",
       "\n",
       "  1  2  3\n",
       "\n",
       "-- Imputation 23 --\n",
       "\n",
       "  1  2  3\n",
       "\n",
       "-- Imputation 24 --\n",
       "\n",
       "  1  2  3\n",
       "\n",
       "-- Imputation 25 --\n",
       "\n",
       "  1  2  3\n",
       "\n",
       "-- Imputation 26 --\n",
       "\n",
       "  1  2  3\n",
       "\n",
       "-- Imputation 27 --\n",
       "\n",
       "  1  2  3\n",
       "\n",
       "-- Imputation 28 --\n",
       "\n",
       "  1  2  3\n",
       "\n",
       "-- Imputation 29 --\n",
       "\n",
       "  1  2  3\n",
       "\n",
       "-- Imputation 30 --\n",
       "\n",
       "  1  2  3\n",
       "\n"
      ]
     },
     "metadata": {},
     "output_type": "display_data"
    }
   ],
   "source": [
    "%%R -i imp_path,m_imp\n",
    "library(\"Amelia\")\n",
    "\n",
    "df = read.csv(\"../data/outputs/for_imputation.csv\")\n",
    "bds = matrix(c(match(\"NumberOfDependents\",names(df)), 0, Inf),nrow = 1, ncol = 3)\n",
    "sqrts = c(match(\"NumberOfTimes90DaysLate\",names(df)),\n",
    "          match(\"NumberOfTime30.59DaysPastDueNotWorse\",names(df)),\n",
    "          match(\"NumberOfTime60.89DaysPastDueNotWorse\",names(df)),\n",
    "          match(\"MonthlyIncome\",names(df)),\n",
    "          match(\"DebtRatio\",names(df)),\n",
    "          match(\"RevolvingUtilizationOfUnsecuredLines\",names(df)))\n",
    "\n",
    "imputed = amelia(df,m=m_imp,sqrts=sqrts,bounds=bds,collect=TRUE)\n",
    "\n",
    "dir.create(imp_path, recursive = TRUE)\n",
    "write.amelia(imputed, file.stem = paste(imp_path,\"/train_and_test_imputed\",sep=\"\"))"
   ]
  },
  {
   "cell_type": "code",
   "execution_count": 15,
   "metadata": {
    "collapsed": false
   },
   "outputs": [
    {
     "data": {
      "text/plain": [
       "170"
      ]
     },
     "execution_count": 15,
     "metadata": {},
     "output_type": "execute_result"
    }
   ],
   "source": [
    "# Necessary in order to avoid memory issues using RPY2\n",
    "gc.collect()"
   ]
  },
  {
   "cell_type": "markdown",
   "metadata": {},
   "source": [
    "### Training"
   ]
  },
  {
   "cell_type": "markdown",
   "metadata": {},
   "source": [
    "As commented before, a strong class imbalance is present in this dataset. Here, I try to use undersampling in order to reduce this effect. Moreover, reducing the dataset size is such that it would speed up the learning process \n",
    "\n",
    "Not sure if it is the best approach with this dataset... "
   ]
  },
  {
   "cell_type": "code",
   "execution_count": null,
   "metadata": {
    "collapsed": false
   },
   "outputs": [],
   "source": [
    "import numpy as np\n",
    "\n",
    "def undersampling(X,y,level=1,bs_minority=False):\n",
    "    posI = np.where(y==1)[0]\n",
    "    negI = np.where(y==0)[0]\n",
    "        \n",
    "    subNegI = np.random.choice(negI,int(len(negI)*(1-level) + len(posI)),replace=False)\n",
    "    \n",
    "    if bs_minority:\n",
    "        subPosI = np.random.choice(posI,len(posI),replace=True)\n",
    "    else:\n",
    "        subPosI = posI\n",
    "\n",
    "    X_resampled=X[np.concatenate((subNegI,subPosI)),]\n",
    "    y_resampled=y[np.concatenate((subNegI,subPosI)),]\n",
    "    \n",
    "    return X_resampled, y_resampled"
   ]
  },
  {
   "cell_type": "markdown",
   "metadata": {},
   "source": [
    "Following class is in order to use the Scikit Learn Gradient Boosting Classifier with early stopping. The objective is to speed up again the learning process."
   ]
  },
  {
   "cell_type": "code",
   "execution_count": null,
   "metadata": {
    "collapsed": true
   },
   "outputs": [],
   "source": [
    "from sklearn.ensemble._gradient_boosting import predict_stage\n",
    "\n",
    "class Monitor():\n",
    "    \"\"\"Monitor for early stopping in Gradient Boosting for classification.\n",
    "\n",
    "    The monitor checks the validation loss between each training stage. When\n",
    "    too many successive stages have increased the loss, the monitor will return\n",
    "    true, stopping the training early.\n",
    "\n",
    "    Parameters\n",
    "    ----------\n",
    "    X_valid : array-like, shape = [n_samples, n_features]\n",
    "      Training vectors, where n_samples is the number of samples\n",
    "      and n_features is the number of features.\n",
    "    y_valid : array-like, shape = [n_samples]\n",
    "      Target values (integers in classification, real numbers in\n",
    "      regression)\n",
    "      For classification, labels must correspond to classes.\n",
    "    max_consecutive_decreases : int, optional (default=5)\n",
    "      Early stopping criteria: when the number of consecutive iterations that\n",
    "      result in a worse performance on the validation set exceeds this value,\n",
    "      the training stops.\n",
    "    \"\"\"\n",
    "\n",
    "    def __init__(self, X_valid, y_valid, max_consecutive_decreases=5):\n",
    "        self.X_valid = X_valid\n",
    "        self.y_valid = y_valid\n",
    "        self.max_consecutive_decreases = max_consecutive_decreases\n",
    "        self.losses = []\n",
    "\n",
    "\n",
    "    def __call__(self, i, clf, args):\n",
    "        if i == 0:\n",
    "            self.consecutive_decreases_ = 0\n",
    "            self.predictions = clf._init_decision_function(self.X_valid)\n",
    "\n",
    "        predict_stage(clf.estimators_, i, self.X_valid, clf.learning_rate,\n",
    "                      self.predictions)\n",
    "        self.losses.append(clf.loss_(self.y_valid, self.predictions))\n",
    "\n",
    "        if len(self.losses) >= 2 and self.losses[-1] > self.losses[-2]:\n",
    "            self.consecutive_decreases_ += 1\n",
    "        else:\n",
    "            self.consecutive_decreases_ = 0\n",
    "\n",
    "        if self.consecutive_decreases_ >= self.max_consecutive_decreases:\n",
    "            print(\"Too many consecutive decreases of loss on validation set\"\n",
    "                  \"({}): stopping early at iteration {}.\".format(self.consecutive_decreases_, i))\n",
    "            return True\n",
    "        else:\n",
    "            return False"
   ]
  },
  {
   "cell_type": "markdown",
   "metadata": {},
   "source": [
    "The function **create_model** instantiates the classifier before training."
   ]
  },
  {
   "cell_type": "code",
   "execution_count": null,
   "metadata": {
    "collapsed": false
   },
   "outputs": [],
   "source": [
    "import optunity\n",
    "import optunity.metrics\n",
    "from functools import partial\n",
    "\n",
    "# k nearest neighbours\n",
    "from sklearn.neighbors import KNeighborsClassifier\n",
    "# support vector machine classifier\n",
    "from sklearn.svm import SVC\n",
    "# Naive Bayes\n",
    "from sklearn.naive_bayes import GaussianNB\n",
    "# Random Forest\n",
    "from sklearn.ensemble import RandomForestClassifier\n",
    "# Gradient Boosting\n",
    "from sklearn.ensemble import GradientBoostingClassifieran early stopping process for \n",
    "# Extreme Gradient Boosting\n",
    "from xgboost import XGBClassifier\n",
    "# Neural Networks\n",
    "from lasagne.layers import DenseLayer\n",
    "from lasagne.layers import InputLayer\n",
    "from lasagne.layers import DropoutLayer\n",
    "from lasagne.nonlinearities import softmax\n",
    "from lasagne.updates import nesterov_momentum\n",
    "from lasagne.objectives import categorical_crossentropy\n",
    "from nolearn.lasagne import NeuralNet\n",
    "from nolearn.lasagne import TrainSplit\n",
    "\n",
    "from sklearn import preprocessing\n",
    "\n",
    "def create_svm(kernel, C, gamma, degree, coef0):\n",
    "    \"\"\"A generic SVM training function, with arguments based on the chosen kernel.\"\"\"\n",
    "    if kernel == 'linear':\n",
    "        model = SVC(kernel=kernel, C=C)\n",
    "    elif kernel == 'poly':\n",
    "        model = SVC(kernel=kernel, C=C, degree=degree, coef0=coef0)\n",
    "    elif kernel == 'rbf':\n",
    "        model = SVC(kernel=kernel, C=C, gamma=gamma)\n",
    "    else:\n",
    "        model=None\n",
    "    return model\n",
    "\n",
    "def create_nnets(num_features,num_classes):\n",
    "    \n",
    "    layers0 = [('input', InputLayer),\n",
    "           ('dense0', DenseLayer),\n",
    "           ('dropout', DropoutLayer),\n",
    "           ('dense1', DenseLayer),\n",
    "           ('output', DenseLayer)]\n",
    "    \n",
    "    model = NeuralNet(layers=layers0,\n",
    "                 input_shape=(None, num_features),\n",
    "                 dense0_num_units=2*num_features,\n",
    "                 dense1_num_units=2*num_features,\n",
    "                 output_num_units=num_classes,\n",
    "                 output_nonlinearity=softmax,\n",
    "                 objective_loss_function = categorical_crossentropy,\n",
    "                 dropout_p=0.8,\n",
    "                 update=nesterov_momentum,\n",
    "                 update_learning_rate=0.05,\n",
    "                 update_momentum=0.9,\n",
    "                 train_split=TrainSplit(eval_size=0.2),\n",
    "                 verbose=0,\n",
    "                 max_epochs=30)\n",
    "    \n",
    "    return model\n",
    "\n",
    "def create_model(algorithm, num_features=None, num_classes=None, n_neighbors=None, n_estimators=None, \n",
    "                 max_features=None,kernel=None, C=None, gamma=None, degree=None, coef0=None, max_depth=None, \n",
    "                 min_samples_leaf=None, colsample_bytree=None, eval_set=None, ensemble_weights=None, ensemble_confs=None):\n",
    "    if algorithm == 'k-nn':\n",
    "        model = KNeighborsClassifier(n_neighbors=int(n_neighbors))\n",
    "    elif algorithm == 'SVM':\n",
    "        model = create_svm(kernel, C, gamma, degree, coef0)\n",
    "    elif algorithm == 'naive-bayes':\n",
    "        model = GaussianNB()\n",
    "    elif algorithm == 'random-forest':\n",
    "        model = RandomForestClassifier(n_estimators=int(n_estimators),\n",
    "                                       max_features=max_features,\n",
    "                                       max_depth=int(max_depth), \n",
    "                                       min_samples_leaf=int(min_samples_leaf))\n",
    "    elif algorithm == 'gradient-boost':\n",
    "        model = GradientBoostingClassifier(n_estimators=int(n_estimators),\n",
    "                                           max_features=max_features,\n",
    "                                           max_depth=int(max_depth), \n",
    "                                           min_samples_leaf=int(min_samples_leaf))\n",
    "        model.fit = partial(model.fit,\n",
    "                            monitor = Monitor())\n",
    "    elif algorithm == 'extreme-gboost':\n",
    "        model = XGBClassifier(n_estimators=int(n_estimators),\n",
    "                                           colsample_bytree=colsample_bytree,\n",
    "                                           max_depth=int(max_depth),nthread=2)\n",
    "        model.fit = partial(model.fit,\n",
    "                            early_stopping_rounds = 20, \n",
    "                            eval_metric = 'auc',\n",
    "                            eval_set = eval_set,\n",
    "                            verbose=False)\n",
    "    elif algorithm == 'nnets':\n",
    "        model = create_nnets(num_features=num_features,num_classes=num_classes)\n",
    "    elif algorithm == 'ensemble':\n",
    "        clfs = []\n",
    "        for conf in ensemble_confs:            \n",
    "            clf = create_model(num_features=num_features, num_classes=num_classes,\n",
    "                                 eval_set=eval_set, **conf)\n",
    "            clfs.append(clf)\n",
    "        model = EnsembleClassifier(clfs=clfs, weights=ensemble_weights , voting='soft')\n",
    "    else:\n",
    "        model=None\n",
    "    return model"
   ]
  },
  {
   "cell_type": "markdown",
   "metadata": {},
   "source": [
    "### Train & Predict Script"
   ]
  },
  {
   "cell_type": "code",
   "execution_count": null,
   "metadata": {
    "collapsed": false,
    "scrolled": true
   },
   "outputs": [],
   "source": [
    "from glob import glob\n",
    "from ensemble import EnsembleClassifier\n",
    "from collections import OrderedDict\n",
    "from datetime import datetime\n",
    "import time\n",
    "from sklearn.cross_validation import StratifiedKFold\n",
    "from sklearn.base import clone\n",
    "from functools import partial\n",
    "\n",
    "allFiles = glob(imp_path + \"/*.csv\")\n",
    "\n",
    "mi_probabilities = []\n",
    "\n",
    "for file_ in allFiles:\n",
    "    \n",
    "    print \"dataset being processed: {filename}\".format(filename=file_)\n",
    "    time.sleep(0.1)\n",
    "    \n",
    "    df_imputed_R = pd.read_csv(file_,index_col=0)\n",
    "    \n",
    "    df_imp = df_imputed_R.values.astype(np.float32)\n",
    "    data = df_imp[0:len(train.index),:] \n",
    "    test = df_imp[len(train.index):,:] \n",
    "    labels = train[\"SeriousDlqin2yrs\"].values.astype(np.int32)\n",
    "    \n",
    "    num_features = np.shape(data)[1]\n",
    "    num_classes = len(np.unique(labels))\n",
    "    \n",
    "    model_per_stratified_niterfolds = []\n",
    "    for ni in range(n_iter_mod):\n",
    "        iter_folds = [list(testf) for trainf, testf in StratifiedKFold(labels, n_folds=n_folds_opt, shuffle=True)]\n",
    "        model_per_stratified_niterfolds.append(iter_folds)\n",
    "        \n",
    "    ensemble_per_stratified_niterfolds = []\n",
    "    for ni in range(n_iter_ens):\n",
    "        iter_folds = [list(testf) for trainf, testf in StratifiedKFold(labels, n_folds=n_folds_opt, shuffle=True)]\n",
    "        ensemble_per_stratified_niterfolds.append(iter_folds)\n",
    "        \n",
    "    final_stratified_niterfolds = []\n",
    "    for ni in range(n_iter_under):\n",
    "        iter_folds = [list(testf) for trainf, testf in StratifiedKFold(labels, n_folds=n_folds_opt, shuffle=True)]\n",
    "        final_stratified_niterfolds.append(iter_folds)\n",
    "        \n",
    "    optimal_confs = []\n",
    "    optimal_weights = None\n",
    "    \n",
    "    @optunity.cross_validated(x=data, y=labels, num_folds=n_folds_opt,num_iter=n_iter_mod, folds=model_per_stratified_niterfolds )\n",
    "    def model_performance(x_train, y_train, x_test, y_test, \n",
    "                    algorithm, n_neighbors=None, n_estimators=None, max_features=None,\n",
    "                    kernel=None, C=None, gamma=None, degree=None, coef0=None, max_depth=None,\n",
    "                    min_samples_leaf=None, colsample_bytree=None, confs=None, **kwargs):\n",
    "        \n",
    "        x_train,y_train = undersampling(x_train,y_train,undersample_level,bs_minority=True)\n",
    "        \n",
    "        scaler = preprocessing.StandardScaler().fit(x_train)\n",
    "        x_train_scaled = scaler.transform(x_train)\n",
    "        x_test_scaled = scaler.transform(x_test)\n",
    "        \n",
    "        weights = dict((key,value) for key, value in kwargs.iteritems() if key.startswith('weight'))\n",
    "        weights = [value for key,value in sorted(weights.items(),key=lambda x:x[0])]\n",
    "                \n",
    "        model = create_model(algorithm=algorithm, num_features=num_features, num_classes=num_classes, \n",
    "                             n_neighbors=n_neighbors, n_estimators=n_estimators, max_features=max_features, \n",
    "                             kernel=kernel, C=C, gamma=gamma, degree=degree, coef0=coef0, max_depth=max_depth,\n",
    "                             min_samples_leaf=min_samples_leaf, colsample_bytree=colsample_bytree, \n",
    "                             eval_set=[(x_test_scaled, y_test)], ensemble_confs=confs, ensemble_weights=weights)\n",
    "                        \n",
    "        if model is not None:\n",
    "            \n",
    "            model.fit(x_train_scaled, y_train)\n",
    "            # predict the test set\n",
    "            if algorithm == 'SVM':\n",
    "                predictions = model.decision_function(x_test_scaled)\n",
    "            else:\n",
    "                predictions = model.predict_proba(x_test_scaled)[:, 1]\n",
    "            return optunity.metrics.roc_auc(y_test, predictions, positive=True)\n",
    "        else:\n",
    "            return 0\n",
    "    \n",
    "    @optunity.cross_validated(x=data, y=labels, num_folds=n_folds_opt, num_iter=n_iter_under,folds=final_stratified_niterfolds,aggregator=optunity.cross_validation.list_mean)\n",
    "    def undersample_performance(x_train, y_train, x_test, y_test, \n",
    "                                test_set=None, conf=None, weights=None):\n",
    "\n",
    "        x_train,y_train = undersampling(x_train,y_train,undersample_level,bs_minority=True)\n",
    "\n",
    "        scaler = preprocessing.StandardScaler().fit(x_train)\n",
    "        x_train_scaled = scaler.transform(x_train)\n",
    "        x_test_scaled = scaler.transform(x_test)\n",
    "        \n",
    "        if len(conf)>1:\n",
    "            model = create_model(algorithm='ensemble',num_features=num_features, num_classes=num_classes,\n",
    "                                 eval_set=[(x_test_scaled, y_test)], ensemble_confs=conf,ensemble_weights=optimal_weights)\n",
    "        else:\n",
    "            model = create_model(num_features=num_features, num_classes=num_classes,\n",
    "                                 eval_set=[(x_test_scaled, y_test)],**conf[0])\n",
    "                \n",
    "        model.fit(x_train_scaled, y_train)\n",
    "        \n",
    "        test_set_scaled = scaler.transform(test_set)\n",
    "        \n",
    "        predictions = model.predict_proba(test_set_scaled)[:, 1]\n",
    "        \n",
    "        return tuple(predictions)\n",
    "\n",
    "    for algo in search[\"algorithm\"]:\n",
    "        \n",
    "        print \"algorithm being tuned: {algo}\".format(algo=algo)\n",
    "        time.sleep(0.1)\n",
    "\n",
    "        search_space = {}\n",
    "        search_space[\"algorithm\"] = {}\n",
    "        search_space[\"algorithm\"][algo] = search[\"algorithm\"][algo]\n",
    "        search_space[\"algorithm\"].update({\"dummy\":None})\n",
    "\n",
    "        optimal_model_configuration, model_tuning_info, _ = optunity.maximize_structured(model_performance,\n",
    "                                                                      search_space=search_space,\n",
    "                                                                      num_evals=num_evals_m_opt)\n",
    "        \n",
    "        if optimal_model_configuration['algorithm'] is not 'dummy':\n",
    "            optimal_confs.append(optimal_model_configuration)\n",
    "            \n",
    "    if optimal_confs and len(optimal_confs)>1:\n",
    "        \n",
    "        weights = dict()\n",
    "        for i,x in enumerate(optimal_confs):\n",
    "            weights[\"weight{i}\".format(i=i)]=[0,1]\n",
    "        ensemble_search = {'weights': weights }\n",
    "\n",
    "        optimal_ensemble_configuration, ensemble_tuning_info, _ = optunity.maximize_structured(\n",
    "            partial(model_performance,confs=optimal_confs,algorithm='ensemble'),\n",
    "            num_evals=num_evals_e_opt,\n",
    "            search_space=weights)\n",
    "\n",
    "        optimal_weights = OrderedDict(sorted(optimal_ensemble_configuration.items())).values()\n",
    "            \n",
    "    probabilities = undersample_performance(test_set = test, conf=optimal_confs, weights = optimal_weights)\n",
    "    \n",
    "    mi_probabilities.append(probabilities)\n",
    "        \n",
    "final_probabilities = np.mean(np.array(mi_probabilities),axis=0)  \n"
   ]
  },
  {
   "cell_type": "markdown",
   "metadata": {},
   "source": [
    "### Export Results for Kaggle"
   ]
  },
  {
   "cell_type": "code",
   "execution_count": null,
   "metadata": {
    "collapsed": false
   },
   "outputs": [],
   "source": [
    "from datetime import datetime\n",
    "import os\n",
    "\n",
    "results = pd.DataFrame(data=final_probabilities,columns=[\"Probability\"])\n",
    "results.index = results.index + 1\n",
    "results.index.name = \"Id\"\n",
    "\n",
    "if not os.path.exists(results_path):\n",
    "    os.makedirs(results_path)\n",
    "    \n",
    "results.to_csv(results_path + \"/{time}-results.csv\".format(time=datetime.now()))"
   ]
  },
  {
   "cell_type": "code",
   "execution_count": null,
   "metadata": {
    "collapsed": true
   },
   "outputs": [],
   "source": []
  }
 ],
 "metadata": {
  "kernelspec": {
   "display_name": "Python Venv 2",
   "language": "python2",
   "name": "venvpy2"
  },
  "language_info": {
   "codemirror_mode": {
    "name": "ipython",
    "version": 2
   },
   "file_extension": ".py",
   "mimetype": "text/x-python",
   "name": "python",
   "nbconvert_exporter": "python",
   "pygments_lexer": "ipython2",
   "version": "2.7.6"
  }
 },
 "nbformat": 4,
 "nbformat_minor": 0
}
